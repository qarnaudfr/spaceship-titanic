{
 "cells": [
  {
   "cell_type": "code",
   "execution_count": null,
   "id": "6cba9bc0-bfb1-4090-a11a-d319d9c8f722",
   "metadata": {
    "tags": []
   },
   "outputs": [],
   "source": []
  },
  {
   "cell_type": "code",
   "execution_count": 154,
   "id": "9fd5ab97-b100-4c11-bdd8-57b95ee390c1",
   "metadata": {},
   "outputs": [
    {
     "name": "stdout",
     "output_type": "stream",
     "text": [
      "sklearn version : 1.0.2\n",
      "C:\\Users\\qarna\\Desktop\\kaggle\\input\\spaceship-titanic\\train.csv \n",
      " C:\\Users\\qarna\\Desktop\\kaggle\\input\\spaceship-titanic\\test.csv\n"
     ]
    }
   ],
   "source": [
    "%matplotlib inline\n",
    "%run ./formating.py\n",
    "import os\n",
    "import seaborn as sns\n",
    "import matplotlib.pyplot as plt\n",
    "import numpy as np # linear algebra\n",
    "import pandas as pd # data processing, CSV file I/O (e.g. pd.read_csv)\n",
    "import sklearn\n",
    "print(f\"sklearn version : {sklearn.__version__}\")\n",
    "\n",
    "# just adding a comment\n",
    "Project = 'spaceship-titanic'\n",
    "\n",
    "#/kaggle/working\n",
    "initial_directory = os.getcwd()\n",
    "online = True if initial_directory=='/kaggle/working' else False\n",
    "#/kaggle\n",
    "parrent_directory = os.path.split(initial_directory)[0]\n",
    "#whether we are working online or locally,os.path.join allows us to deal easily with \n",
    "\n",
    "train_file = os.path.join(parrent_directory,'input',Project,\"train.csv\")\n",
    "test_file = os.path.join(parrent_directory,'input',Project,\"test.csv\")\n",
    "print(train_file,\"\\n\",test_file)"
   ]
  },
  {
   "cell_type": "code",
   "execution_count": 155,
   "id": "31da0f0b-9095-4283-baeb-39650405b7f8",
   "metadata": {
    "tags": []
   },
   "outputs": [],
   "source": [
    "data = pd.read_csv(train_file)\n",
    "test = pd.read_csv(test_file)\n",
    "#full_data = pd.concat([data.drop(columns=['Transported']),test])"
   ]
  },
  {
   "cell_type": "code",
   "execution_count": 159,
   "id": "c190d04b-6e0a-4a78-8a9e-80ba67fa1f27",
   "metadata": {},
   "outputs": [],
   "source": [
    "data=format_data(data)"
   ]
  },
  {
   "cell_type": "code",
   "execution_count": 160,
   "id": "8d584ac1-b2c4-4049-8747-70dea5f46078",
   "metadata": {},
   "outputs": [
    {
     "name": "stdout",
     "output_type": "stream",
     "text": [
      "<class 'pandas.core.frame.DataFrame'>\n",
      "RangeIndex: 8693 entries, 0 to 8692\n",
      "Data columns (total 32 columns):\n",
      " #   Column              Non-Null Count  Dtype  \n",
      "---  ------              --------------  -----  \n",
      " 0   PassengerId         8693 non-null   object \n",
      " 1   GroupId             8693 non-null   object \n",
      " 2   GroupSubId          8693 non-null   object \n",
      " 3   Name                8493 non-null   object \n",
      " 4   FirstName           8493 non-null   object \n",
      " 5   FamilyName          8493 non-null   object \n",
      " 6   FamilyId            8693 non-null   object \n",
      " 7   Age                 8514 non-null   float64\n",
      " 8   GroupNb             8693 non-null   float64\n",
      " 9   FamilyNb            8693 non-null   float64\n",
      " 10  Cabin               8494 non-null   object \n",
      " 11  CabinDeck           8494 non-null   object \n",
      " 12  CabinNum            8494 non-null   float64\n",
      " 13  CabinSide           8494 non-null   object \n",
      " 14  HomePlanet          8492 non-null   object \n",
      " 15  Destination         8511 non-null   object \n",
      " 16  CryoSleep           8476 non-null   object \n",
      " 17  VIP                 8490 non-null   object \n",
      " 18  FamilyVIP           8693 non-null   object \n",
      " 19  RoomService         8512 non-null   float64\n",
      " 20  FoodCourt           8510 non-null   float64\n",
      " 21  ShoppingMall        8485 non-null   float64\n",
      " 22  Spa                 8510 non-null   float64\n",
      " 23  VRDeck              8505 non-null   float64\n",
      " 24  MoneySpent          8693 non-null   float64\n",
      " 25  FamilyRoomService   8693 non-null   float64\n",
      " 26  FamilyFoodCourt     8693 non-null   float64\n",
      " 27  FamilyShoppingMall  8693 non-null   float64\n",
      " 28  FamilySpa           8693 non-null   float64\n",
      " 29  FamilyVRDeck        8693 non-null   float64\n",
      " 30  FamilyMoneySpent    8693 non-null   float64\n",
      " 31  Transported         8693 non-null   bool   \n",
      "dtypes: bool(1), float64(16), object(15)\n",
      "memory usage: 2.1+ MB\n"
     ]
    }
   ],
   "source": [
    "data.info()\n",
    "initial_features = data.columns"
   ]
  },
  {
   "cell_type": "code",
   "execution_count": 161,
   "id": "a7bf9e66-c84d-4336-8a7a-cf1b937ad0f4",
   "metadata": {},
   "outputs": [
    {
     "data": {
      "text/html": [
       "<div>\n",
       "<style scoped>\n",
       "    .dataframe tbody tr th:only-of-type {\n",
       "        vertical-align: middle;\n",
       "    }\n",
       "\n",
       "    .dataframe tbody tr th {\n",
       "        vertical-align: top;\n",
       "    }\n",
       "\n",
       "    .dataframe thead th {\n",
       "        text-align: right;\n",
       "    }\n",
       "</style>\n",
       "<table border=\"1\" class=\"dataframe\">\n",
       "  <thead>\n",
       "    <tr style=\"text-align: right;\">\n",
       "      <th></th>\n",
       "      <th>Age</th>\n",
       "      <th>GroupNb</th>\n",
       "      <th>FamilyNb</th>\n",
       "      <th>CabinNum</th>\n",
       "      <th>RoomService</th>\n",
       "      <th>FoodCourt</th>\n",
       "      <th>ShoppingMall</th>\n",
       "      <th>Spa</th>\n",
       "      <th>VRDeck</th>\n",
       "      <th>MoneySpent</th>\n",
       "      <th>FamilyRoomService</th>\n",
       "      <th>FamilyFoodCourt</th>\n",
       "      <th>FamilyShoppingMall</th>\n",
       "      <th>FamilySpa</th>\n",
       "      <th>FamilyVRDeck</th>\n",
       "      <th>FamilyMoneySpent</th>\n",
       "    </tr>\n",
       "  </thead>\n",
       "  <tbody>\n",
       "    <tr>\n",
       "      <th>count</th>\n",
       "      <td>8514.000000</td>\n",
       "      <td>8693.000000</td>\n",
       "      <td>8693.000000</td>\n",
       "      <td>8494.000000</td>\n",
       "      <td>8512.000000</td>\n",
       "      <td>8510.000000</td>\n",
       "      <td>8485.000000</td>\n",
       "      <td>8510.000000</td>\n",
       "      <td>8505.000000</td>\n",
       "      <td>8693.000000</td>\n",
       "      <td>8693.000000</td>\n",
       "      <td>8693.000000</td>\n",
       "      <td>8693.000000</td>\n",
       "      <td>8693.000000</td>\n",
       "      <td>8693.000000</td>\n",
       "      <td>8693.000000</td>\n",
       "    </tr>\n",
       "    <tr>\n",
       "      <th>mean</th>\n",
       "      <td>28.827930</td>\n",
       "      <td>2.035546</td>\n",
       "      <td>1.775336</td>\n",
       "      <td>600.367671</td>\n",
       "      <td>224.687617</td>\n",
       "      <td>458.077203</td>\n",
       "      <td>173.729169</td>\n",
       "      <td>311.138778</td>\n",
       "      <td>304.854791</td>\n",
       "      <td>1440.866329</td>\n",
       "      <td>361.876222</td>\n",
       "      <td>839.854596</td>\n",
       "      <td>265.743242</td>\n",
       "      <td>568.919475</td>\n",
       "      <td>547.761877</td>\n",
       "      <td>2584.155412</td>\n",
       "    </tr>\n",
       "    <tr>\n",
       "      <th>std</th>\n",
       "      <td>14.489021</td>\n",
       "      <td>1.596347</td>\n",
       "      <td>1.269407</td>\n",
       "      <td>511.867226</td>\n",
       "      <td>666.717663</td>\n",
       "      <td>1611.489240</td>\n",
       "      <td>604.696458</td>\n",
       "      <td>1136.705535</td>\n",
       "      <td>1145.717189</td>\n",
       "      <td>2803.045694</td>\n",
       "      <td>932.951317</td>\n",
       "      <td>2462.031910</td>\n",
       "      <td>758.204044</td>\n",
       "      <td>1722.910084</td>\n",
       "      <td>1657.617125</td>\n",
       "      <td>4712.409991</td>\n",
       "    </tr>\n",
       "    <tr>\n",
       "      <th>min</th>\n",
       "      <td>0.000000</td>\n",
       "      <td>1.000000</td>\n",
       "      <td>1.000000</td>\n",
       "      <td>0.000000</td>\n",
       "      <td>0.000000</td>\n",
       "      <td>0.000000</td>\n",
       "      <td>0.000000</td>\n",
       "      <td>0.000000</td>\n",
       "      <td>0.000000</td>\n",
       "      <td>0.000000</td>\n",
       "      <td>0.000000</td>\n",
       "      <td>0.000000</td>\n",
       "      <td>0.000000</td>\n",
       "      <td>0.000000</td>\n",
       "      <td>0.000000</td>\n",
       "      <td>0.000000</td>\n",
       "    </tr>\n",
       "    <tr>\n",
       "      <th>25%</th>\n",
       "      <td>19.000000</td>\n",
       "      <td>1.000000</td>\n",
       "      <td>1.000000</td>\n",
       "      <td>167.250000</td>\n",
       "      <td>0.000000</td>\n",
       "      <td>0.000000</td>\n",
       "      <td>0.000000</td>\n",
       "      <td>0.000000</td>\n",
       "      <td>0.000000</td>\n",
       "      <td>0.000000</td>\n",
       "      <td>0.000000</td>\n",
       "      <td>0.000000</td>\n",
       "      <td>0.000000</td>\n",
       "      <td>0.000000</td>\n",
       "      <td>0.000000</td>\n",
       "      <td>0.000000</td>\n",
       "    </tr>\n",
       "    <tr>\n",
       "      <th>50%</th>\n",
       "      <td>27.000000</td>\n",
       "      <td>1.000000</td>\n",
       "      <td>1.000000</td>\n",
       "      <td>427.000000</td>\n",
       "      <td>0.000000</td>\n",
       "      <td>0.000000</td>\n",
       "      <td>0.000000</td>\n",
       "      <td>0.000000</td>\n",
       "      <td>0.000000</td>\n",
       "      <td>716.000000</td>\n",
       "      <td>0.000000</td>\n",
       "      <td>0.000000</td>\n",
       "      <td>0.000000</td>\n",
       "      <td>0.000000</td>\n",
       "      <td>0.000000</td>\n",
       "      <td>899.000000</td>\n",
       "    </tr>\n",
       "    <tr>\n",
       "      <th>75%</th>\n",
       "      <td>38.000000</td>\n",
       "      <td>3.000000</td>\n",
       "      <td>2.000000</td>\n",
       "      <td>999.000000</td>\n",
       "      <td>47.000000</td>\n",
       "      <td>76.000000</td>\n",
       "      <td>27.000000</td>\n",
       "      <td>59.000000</td>\n",
       "      <td>46.000000</td>\n",
       "      <td>1441.000000</td>\n",
       "      <td>256.000000</td>\n",
       "      <td>444.000000</td>\n",
       "      <td>147.000000</td>\n",
       "      <td>293.000000</td>\n",
       "      <td>287.000000</td>\n",
       "      <td>2524.000000</td>\n",
       "    </tr>\n",
       "    <tr>\n",
       "      <th>max</th>\n",
       "      <td>79.000000</td>\n",
       "      <td>8.000000</td>\n",
       "      <td>8.000000</td>\n",
       "      <td>1894.000000</td>\n",
       "      <td>14327.000000</td>\n",
       "      <td>29813.000000</td>\n",
       "      <td>23492.000000</td>\n",
       "      <td>22408.000000</td>\n",
       "      <td>24133.000000</td>\n",
       "      <td>35987.000000</td>\n",
       "      <td>14327.000000</td>\n",
       "      <td>29813.000000</td>\n",
       "      <td>23492.000000</td>\n",
       "      <td>22408.000000</td>\n",
       "      <td>24133.000000</td>\n",
       "      <td>45970.000000</td>\n",
       "    </tr>\n",
       "  </tbody>\n",
       "</table>\n",
       "</div>"
      ],
      "text/plain": [
       "               Age      GroupNb     FamilyNb     CabinNum   RoomService  \\\n",
       "count  8514.000000  8693.000000  8693.000000  8494.000000   8512.000000   \n",
       "mean     28.827930     2.035546     1.775336   600.367671    224.687617   \n",
       "std      14.489021     1.596347     1.269407   511.867226    666.717663   \n",
       "min       0.000000     1.000000     1.000000     0.000000      0.000000   \n",
       "25%      19.000000     1.000000     1.000000   167.250000      0.000000   \n",
       "50%      27.000000     1.000000     1.000000   427.000000      0.000000   \n",
       "75%      38.000000     3.000000     2.000000   999.000000     47.000000   \n",
       "max      79.000000     8.000000     8.000000  1894.000000  14327.000000   \n",
       "\n",
       "          FoodCourt  ShoppingMall           Spa        VRDeck    MoneySpent  \\\n",
       "count   8510.000000   8485.000000   8510.000000   8505.000000   8693.000000   \n",
       "mean     458.077203    173.729169    311.138778    304.854791   1440.866329   \n",
       "std     1611.489240    604.696458   1136.705535   1145.717189   2803.045694   \n",
       "min        0.000000      0.000000      0.000000      0.000000      0.000000   \n",
       "25%        0.000000      0.000000      0.000000      0.000000      0.000000   \n",
       "50%        0.000000      0.000000      0.000000      0.000000    716.000000   \n",
       "75%       76.000000     27.000000     59.000000     46.000000   1441.000000   \n",
       "max    29813.000000  23492.000000  22408.000000  24133.000000  35987.000000   \n",
       "\n",
       "       FamilyRoomService  FamilyFoodCourt  FamilyShoppingMall     FamilySpa  \\\n",
       "count        8693.000000      8693.000000         8693.000000   8693.000000   \n",
       "mean          361.876222       839.854596          265.743242    568.919475   \n",
       "std           932.951317      2462.031910          758.204044   1722.910084   \n",
       "min             0.000000         0.000000            0.000000      0.000000   \n",
       "25%             0.000000         0.000000            0.000000      0.000000   \n",
       "50%             0.000000         0.000000            0.000000      0.000000   \n",
       "75%           256.000000       444.000000          147.000000    293.000000   \n",
       "max         14327.000000     29813.000000        23492.000000  22408.000000   \n",
       "\n",
       "       FamilyVRDeck  FamilyMoneySpent  \n",
       "count   8693.000000       8693.000000  \n",
       "mean     547.761877       2584.155412  \n",
       "std     1657.617125       4712.409991  \n",
       "min        0.000000          0.000000  \n",
       "25%        0.000000          0.000000  \n",
       "50%        0.000000        899.000000  \n",
       "75%      287.000000       2524.000000  \n",
       "max    24133.000000      45970.000000  "
      ]
     },
     "execution_count": 161,
     "metadata": {},
     "output_type": "execute_result"
    }
   ],
   "source": [
    "data.describe()"
   ]
  },
  {
   "cell_type": "markdown",
   "id": "5dc16081-52d1-4fbf-97cc-d77b9ab21d70",
   "metadata": {},
   "source": [
    "People in CabinDeck G all come from Earth\n",
    "People in CabinDeck A, B and C all come from Europa\n",
    "This should help filling missing values for HomePlanet variable"
   ]
  },
  {
   "cell_type": "code",
   "execution_count": 162,
   "id": "1ba20d1f-aabb-4998-bfc1-44148c02def1",
   "metadata": {},
   "outputs": [
    {
     "data": {
      "text/plain": [
       "<seaborn.axisgrid.FacetGrid at 0x13cd79899d0>"
      ]
     },
     "execution_count": 162,
     "metadata": {},
     "output_type": "execute_result"
    },
    {
     "data": {
      "image/png": "[encoded data removed]",
      "text/plain": [
       "<Figure size 430.875x360 with 1 Axes>"
      ]
     },
     "metadata": {
      "needs_background": "light"
     },
     "output_type": "display_data"
    }
   ],
   "source": [
    "sns.catplot(data = data , x='CabinDeck',hue='HomePlanet',kind='count')"
   ]
  },
  {
   "cell_type": "code",
   "execution_count": 163,
   "id": "4e6e13dd-d986-48b6-bc6e-fb90e1a77e09",
   "metadata": {},
   "outputs": [
    {
     "data": {
      "text/plain": [
       "CabinDeck\n",
       "A     4\n",
       "B    13\n",
       "C    13\n",
       "D    10\n",
       "E    23\n",
       "F    70\n",
       "G    61\n",
       "T     1\n",
       "Name: PassengerId, dtype: int64"
      ]
     },
     "execution_count": 163,
     "metadata": {},
     "output_type": "execute_result"
    }
   ],
   "source": [
    "data[data.HomePlanet.isnull()].groupby(\"CabinDeck\").PassengerId.count()"
   ]
  },
  {
   "cell_type": "code",
   "execution_count": 164,
   "id": "ebb9d09a-b769-4c8b-9342-7ac7479e3c1c",
   "metadata": {},
   "outputs": [
    {
     "data": {
      "text/plain": [
       "CryoSleep  VIP  \n",
       "False      False    91\n",
       "True       False    80\n",
       "False      True      1\n",
       "dtype: int64"
      ]
     },
     "execution_count": 164,
     "metadata": {},
     "output_type": "execute_result"
    }
   ],
   "source": [
    "data[data.Age.isnull()][['CryoSleep','VIP']].value_counts()"
   ]
  },
  {
   "cell_type": "markdown",
   "id": "097d4fa8-b898-4b85-a394-066fa546e175",
   "metadata": {},
   "source": [
    "VIPs never come from Earth\n",
    "This should help filling missing values for VIP variable\n",
    "VIPs from Europa are all adults"
   ]
  },
  {
   "cell_type": "code",
   "execution_count": 165,
   "id": "504a640c-b83f-4c8b-888e-3cd274721e6e",
   "metadata": {},
   "outputs": [
    {
     "data": {
      "text/plain": [
       "<seaborn.axisgrid.FacetGrid at 0x13cdfca0a60>"
      ]
     },
     "execution_count": 165,
     "metadata": {},
     "output_type": "execute_result"
    },
    {
     "data": {
      "image/png": "[encoded data removed]",
      "text/plain": [
       "<Figure size 430.875x360 with 1 Axes>"
      ]
     },
     "metadata": {
      "needs_background": "light"
     },
     "output_type": "display_data"
    }
   ],
   "source": [
    "sns.catplot(data = data , x='VIP', y='Age',hue='HomePlanet',kind='violin')"
   ]
  },
  {
   "cell_type": "code",
   "execution_count": 166,
   "id": "851acf81-0eec-4bef-be90-397515b9e297",
   "metadata": {},
   "outputs": [
    {
     "data": {
      "text/plain": [
       "CabinDeck  VIP    CryoSleep\n",
       "F          False  False        48\n",
       "G          False  False        32\n",
       "                  True         28\n",
       "E          False  False        17\n",
       "F          False  True         17\n",
       "B          False  True          8\n",
       "C          False  True          7\n",
       "E          False  True          6\n",
       "B          False  False         5\n",
       "C          False  False         5\n",
       "D          False  False         5\n",
       "F          True   False         3\n",
       "A          False  False         2\n",
       "D          False  True          2\n",
       "A          False  True          2\n",
       "D          True   True          1\n",
       "                  False         1\n",
       "T          False  False         1\n",
       "dtype: int64"
      ]
     },
     "execution_count": 166,
     "metadata": {},
     "output_type": "execute_result"
    }
   ],
   "source": [
    "data[data.HomePlanet.isnull()][[\"CabinDeck\",\"VIP\",\"CryoSleep\"]].value_counts()"
   ]
  },
  {
   "cell_type": "code",
   "execution_count": 124,
   "id": "233c9a7f-9cf0-40fe-8ca7-24648a01c696",
   "metadata": {},
   "outputs": [
    {
     "data": {
      "text/plain": [
       "288"
      ]
     },
     "execution_count": 124,
     "metadata": {},
     "output_type": "execute_result"
    }
   ],
   "source": []
  },
  {
   "cell_type": "code",
   "execution_count": 170,
   "id": "8132d37a-a45a-40c1-a11f-37573c104821",
   "metadata": {},
   "outputs": [
    {
     "name": "stdout",
     "output_type": "stream",
     "text": [
      "\n",
      "\n",
      "23 missing values in VIP should be filled with False\n",
      "because in the data, all the 1038 instances with similar features for ['CabinDeck', 'HomePlanet', 'CryoSleep', 'Destination'] have VIP=False\n",
      "\n",
      "\n",
      "22 missing values in VIP should be filled with False\n",
      "because in the data, all the 749 instances with similar features for ['CabinDeck', 'HomePlanet', 'CryoSleep', 'Destination'] have VIP=False\n",
      "\n",
      "\n",
      "19 missing values in VIP should be filled with False\n",
      "because in the data, all the 808 instances with similar features for ['CabinDeck', 'HomePlanet', 'CryoSleep', 'Destination'] have VIP=False\n",
      "\n",
      "\n",
      "14 missing values in VIP should be filled with False\n",
      "because in the data, all the 428 instances with similar features for ['CabinDeck', 'HomePlanet', 'CryoSleep', 'Destination'] have VIP=False\n",
      "\n",
      "\n",
      "9 missing values in VIP should be filled with False\n",
      "because in the data, all the 253 instances with similar features for ['CabinDeck', 'HomePlanet', 'CryoSleep', 'Destination'] have VIP=False\n",
      "\n",
      "\n",
      "7 missing values in VIP should be filled with False\n",
      "because in the data, all the 336 instances with similar features for ['CabinDeck', 'HomePlanet', 'CryoSleep', 'Destination'] have VIP=False\n",
      "\n",
      "\n",
      "7 missing values in VIP should be filled with False\n",
      "because in the data, all the 188 instances with similar features for ['CabinDeck', 'HomePlanet', 'CryoSleep', 'Destination'] have VIP=False\n",
      "\n",
      "\n",
      "7 missing values in VIP should be filled with False\n",
      "because in the data, all the 197 instances with similar features for ['CabinDeck', 'HomePlanet', 'CryoSleep', 'Destination'] have VIP=False\n",
      "\n",
      "\n",
      "3 missing values in VIP should be filled with False\n",
      "because in the data, all the 154 instances with similar features for ['CabinDeck', 'HomePlanet', 'CryoSleep', 'Destination'] have VIP=False\n",
      "\n",
      "\n",
      "3 missing values in VIP should be filled with False\n",
      "because in the data, all the 283 instances with similar features for ['CabinDeck', 'HomePlanet', 'CryoSleep', 'Destination'] have VIP=False\n",
      "\n",
      "\n",
      "2 missing values in VIP should be filled with False\n",
      "because in the data, all the 98 instances with similar features for ['CabinDeck', 'HomePlanet', 'CryoSleep', 'Destination'] have VIP=False\n",
      "\n",
      "\n",
      "2 missing values in VIP should be filled with False\n",
      "because in the data, all the 56 instances with similar features for ['CabinDeck', 'HomePlanet', 'CryoSleep', 'Destination'] have VIP=False\n",
      "\n",
      "\n",
      "1 missing values in VIP should be filled with False\n",
      "because in the data, all the 60 instances with similar features for ['CabinDeck', 'HomePlanet', 'CryoSleep', 'Destination'] have VIP=False\n",
      "\n",
      "\n",
      "1 missing values in VIP should be filled with False\n",
      "because in the data, all the 34 instances with similar features for ['CabinDeck', 'HomePlanet', 'CryoSleep', 'Destination'] have VIP=False\n",
      "\n",
      "\n",
      "1 missing values in VIP should be filled with False\n",
      "because in the data, all the 42 instances with similar features for ['CabinDeck', 'HomePlanet', 'CryoSleep', 'Destination'] have VIP=False\n",
      "\n",
      "\n",
      "1 missing values in VIP should be filled with False\n",
      "because in the data, all the 85 instances with similar features for ['CabinDeck', 'HomePlanet', 'CryoSleep', 'Destination'] have VIP=False\n",
      "out of the 203 VIP missing values, 122 could be filled confidently (60.10% ) with a threshold set at 10\n"
     ]
    }
   ],
   "source": [
    "threshold = 10\n",
    "var_null = 'VIP'\n",
    "var_help = [\"CabinDeck\",\"HomePlanet\",\"CryoSleep\",\"Destination\"] \n",
    "\n",
    "total_null = data[var_null].isnull().sum()\n",
    "test = pd.DataFrame(data[data[var_null].isnull()][var_help].value_counts()).reset_index()\n",
    "test.columns = var_help + [\"counts\"]\n",
    "\n",
    "total_help = 0\n",
    "Details = True\n",
    "for i in range(test.shape[0]):\n",
    "    mask = np.ones_like(data.shape[0])\n",
    "    c = test.iloc[i][\"counts\"]\n",
    "    #print(i,mask)\n",
    "    for col in var_help:\n",
    "        mask = mask & (data[col] == test.iloc[i][col])\n",
    "    a = data[mask][var_null].value_counts()\n",
    "    n_instances_similar_features = a[0]\n",
    "    sole_value = a.index[0]\n",
    "    if(len(a)==1 and n_instances_similar_features>=threshold):\n",
    "        total_help += c\n",
    "        if(Details):\n",
    "            print(\"\\n\")\n",
    "            print(f\"{c} missing values in {var_null} should be filled with {sole_value}\")\n",
    "            print(f\"because in the data, all the {n_instances_similar_features} instances with similar features for {var_help} have {var_null}={sole_value}\")\n",
    "        \n",
    "print(f\"out of the {total_null} {var_null} missing values, {total_help} could be filled confidently ({total_help/total_null*100:.2f}% ) with a threshold set at {threshold}\")"
   ]
  },
  {
   "cell_type": "code",
   "execution_count": 117,
   "id": "c4742fc9-176c-4177-81c5-fe23c177848a",
   "metadata": {},
   "outputs": [
    {
     "data": {
      "text/html": [
       "<div>\n",
       "<style scoped>\n",
       "    .dataframe tbody tr th:only-of-type {\n",
       "        vertical-align: middle;\n",
       "    }\n",
       "\n",
       "    .dataframe tbody tr th {\n",
       "        vertical-align: top;\n",
       "    }\n",
       "\n",
       "    .dataframe thead th {\n",
       "        text-align: right;\n",
       "    }\n",
       "</style>\n",
       "<table border=\"1\" class=\"dataframe\">\n",
       "  <thead>\n",
       "    <tr style=\"text-align: right;\">\n",
       "      <th></th>\n",
       "      <th>CabinDeck</th>\n",
       "      <th>VIP</th>\n",
       "      <th>CryoSleep</th>\n",
       "      <th>counts</th>\n",
       "    </tr>\n",
       "  </thead>\n",
       "  <tbody>\n",
       "    <tr>\n",
       "      <th>0</th>\n",
       "      <td>F</td>\n",
       "      <td>False</td>\n",
       "      <td>False</td>\n",
       "      <td>71</td>\n",
       "    </tr>\n",
       "    <tr>\n",
       "      <th>1</th>\n",
       "      <td>G</td>\n",
       "      <td>False</td>\n",
       "      <td>False</td>\n",
       "      <td>41</td>\n",
       "    </tr>\n",
       "    <tr>\n",
       "      <th>2</th>\n",
       "      <td>G</td>\n",
       "      <td>False</td>\n",
       "      <td>True</td>\n",
       "      <td>39</td>\n",
       "    </tr>\n",
       "    <tr>\n",
       "      <th>3</th>\n",
       "      <td>E</td>\n",
       "      <td>False</td>\n",
       "      <td>False</td>\n",
       "      <td>24</td>\n",
       "    </tr>\n",
       "    <tr>\n",
       "      <th>4</th>\n",
       "      <td>F</td>\n",
       "      <td>False</td>\n",
       "      <td>True</td>\n",
       "      <td>22</td>\n",
       "    </tr>\n",
       "    <tr>\n",
       "      <th>5</th>\n",
       "      <td>C</td>\n",
       "      <td>False</td>\n",
       "      <td>True</td>\n",
       "      <td>12</td>\n",
       "    </tr>\n",
       "    <tr>\n",
       "      <th>6</th>\n",
       "      <td>D</td>\n",
       "      <td>False</td>\n",
       "      <td>False</td>\n",
       "      <td>11</td>\n",
       "    </tr>\n",
       "    <tr>\n",
       "      <th>7</th>\n",
       "      <td>B</td>\n",
       "      <td>False</td>\n",
       "      <td>False</td>\n",
       "      <td>9</td>\n",
       "    </tr>\n",
       "    <tr>\n",
       "      <th>8</th>\n",
       "      <td>E</td>\n",
       "      <td>False</td>\n",
       "      <td>True</td>\n",
       "      <td>9</td>\n",
       "    </tr>\n",
       "    <tr>\n",
       "      <th>9</th>\n",
       "      <td>B</td>\n",
       "      <td>False</td>\n",
       "      <td>True</td>\n",
       "      <td>8</td>\n",
       "    </tr>\n",
       "    <tr>\n",
       "      <th>10</th>\n",
       "      <td>C</td>\n",
       "      <td>False</td>\n",
       "      <td>False</td>\n",
       "      <td>8</td>\n",
       "    </tr>\n",
       "    <tr>\n",
       "      <th>11</th>\n",
       "      <td>A</td>\n",
       "      <td>False</td>\n",
       "      <td>False</td>\n",
       "      <td>4</td>\n",
       "    </tr>\n",
       "    <tr>\n",
       "      <th>12</th>\n",
       "      <td>D</td>\n",
       "      <td>False</td>\n",
       "      <td>True</td>\n",
       "      <td>4</td>\n",
       "    </tr>\n",
       "    <tr>\n",
       "      <th>13</th>\n",
       "      <td>A</td>\n",
       "      <td>False</td>\n",
       "      <td>True</td>\n",
       "      <td>4</td>\n",
       "    </tr>\n",
       "    <tr>\n",
       "      <th>14</th>\n",
       "      <td>F</td>\n",
       "      <td>True</td>\n",
       "      <td>False</td>\n",
       "      <td>3</td>\n",
       "    </tr>\n",
       "    <tr>\n",
       "      <th>15</th>\n",
       "      <td>D</td>\n",
       "      <td>True</td>\n",
       "      <td>True</td>\n",
       "      <td>1</td>\n",
       "    </tr>\n",
       "    <tr>\n",
       "      <th>16</th>\n",
       "      <td>E</td>\n",
       "      <td>True</td>\n",
       "      <td>False</td>\n",
       "      <td>1</td>\n",
       "    </tr>\n",
       "    <tr>\n",
       "      <th>17</th>\n",
       "      <td>D</td>\n",
       "      <td>True</td>\n",
       "      <td>False</td>\n",
       "      <td>1</td>\n",
       "    </tr>\n",
       "    <tr>\n",
       "      <th>18</th>\n",
       "      <td>T</td>\n",
       "      <td>False</td>\n",
       "      <td>False</td>\n",
       "      <td>1</td>\n",
       "    </tr>\n",
       "  </tbody>\n",
       "</table>\n",
       "</div>"
      ],
      "text/plain": [
       "   CabinDeck    VIP  CryoSleep  counts\n",
       "0          F  False      False      71\n",
       "1          G  False      False      41\n",
       "2          G  False       True      39\n",
       "3          E  False      False      24\n",
       "4          F  False       True      22\n",
       "5          C  False       True      12\n",
       "6          D  False      False      11\n",
       "7          B  False      False       9\n",
       "8          E  False       True       9\n",
       "9          B  False       True       8\n",
       "10         C  False      False       8\n",
       "11         A  False      False       4\n",
       "12         D  False       True       4\n",
       "13         A  False       True       4\n",
       "14         F   True      False       3\n",
       "15         D   True       True       1\n",
       "16         E   True      False       1\n",
       "17         D   True      False       1\n",
       "18         T  False      False       1"
      ]
     },
     "execution_count": 117,
     "metadata": {},
     "output_type": "execute_result"
    }
   ],
   "source": [
    "test"
   ]
  },
  {
   "cell_type": "code",
   "execution_count": 54,
   "id": "cc3721f6-65e4-4ae7-ac1a-f2a22fa079bf",
   "metadata": {},
   "outputs": [
    {
     "data": {
      "text/plain": [
       "HomePlanet  CabinDeck  VIP    CryoSleep\n",
       "Earth       F          False  False        2294\n",
       "            G          False  True         1935\n",
       "                              False        1594\n",
       "Mars        F          False  False         809\n",
       "                              True          791\n",
       "Europa      B          False  True          573\n",
       "Earth       E          False  False         547\n",
       "Europa      C          False  False         542\n",
       "            B          False  False         442\n",
       "            C          False  True          429\n",
       "Mars        E          False  False         315\n",
       "            D          False  False         315\n",
       "Europa      A          False  False         194\n",
       "            D          False  False         163\n",
       "Mars        E          False  True          150\n",
       "Europa      D          False  True          113\n",
       "            E          False  False         111\n",
       "            A          False  True           88\n",
       "            E          False  True           72\n",
       "            B          True   False          47\n",
       "Mars        D          False  True           47\n",
       "Europa      C          True   False          43\n",
       "            A          True   False          39\n",
       "Mars        F          True   False          38\n",
       "            D          True   False          29\n",
       "            E          True   False          20\n",
       "Earth       E          False  True           18\n",
       "            F          False  True           18\n",
       "Europa      B          True   True           10\n",
       "            C          True   True           10\n",
       "            T          False  False           8\n",
       "            D          True   False           8\n",
       "            A          True   True            5\n",
       "            E          True   False           3\n",
       "            D          True   True            2\n",
       "dtype: int64"
      ]
     },
     "execution_count": 54,
     "metadata": {},
     "output_type": "execute_result"
    }
   ],
   "source": [
    "data[[\"HomePlanet\",\"CabinDeck\",\"VIP\",\"CryoSleep\"]].value_counts()"
   ]
  },
  {
   "cell_type": "code",
   "execution_count": null,
   "id": "e79b3a98-a74a-4f9f-bdda-141f3e7f53b5",
   "metadata": {},
   "outputs": [],
   "source": [
    "sns.catplot(data = data , x='CabinDeck',hue='CryoSleep',kind='count')"
   ]
  },
  {
   "cell_type": "code",
   "execution_count": null,
   "id": "b24036c5-f326-4f9c-b021-9fb16abd9d91",
   "metadata": {},
   "outputs": [],
   "source": []
  },
  {
   "cell_type": "code",
   "execution_count": 102,
   "id": "6f781feb-2bea-4dd4-a7c2-e796ee8c7a63",
   "metadata": {},
   "outputs": [
    {
     "data": {
      "text/plain": [
       "<seaborn.axisgrid.FacetGrid at 0x1b5310583a0>"
      ]
     },
     "execution_count": 102,
     "metadata": {},
     "output_type": "execute_result"
    },
    {
     "data": {
      "image/png": "[encoded data removed]",
      "text/plain": [
       "<Figure size 418.125x360 with 1 Axes>"
      ]
     },
     "metadata": {
      "needs_background": "light"
     },
     "output_type": "display_data"
    }
   ],
   "source": [
    "sns.catplot(data = data , x='CabinDeck',hue='CabinSide',kind='count')"
   ]
  },
  {
   "cell_type": "code",
   "execution_count": 95,
   "id": "61082de8-d0ad-4e89-8a07-141610f79b37",
   "metadata": {},
   "outputs": [
    {
     "data": {
      "text/plain": [
       "FamilyName  GroupId  CabinNum  CabinSide\n",
       "Admingried  7585     281.0     S            4\n",
       "Alvasquez   1211     186.0     S            3\n",
       "                     232.0     S            1\n",
       "Ametic      6191     59.0      P            4\n",
       "Arible      7219     235.0     P            5\n",
       "                                           ..\n",
       "Wolfaddox   4006     660.0     S            3\n",
       "                     759.0     S            2\n",
       "Wolfernan   3032     478.0     S            3\n",
       "                     575.0     S            1\n",
       "Woodwinez   2055     330.0     P            4\n",
       "Name: PassengerId, Length: 223, dtype: int64"
      ]
     },
     "execution_count": 95,
     "metadata": {},
     "output_type": "execute_result"
    }
   ],
   "source": [
    "data[(data.FamilyNb>=4) & (data.CabinNum>1)].groupby([\"FamilyName\",\"GroupId\",\"CabinNum\",\"CabinSide\"]).PassengerId.count()"
   ]
  },
  {
   "cell_type": "code",
   "execution_count": 33,
   "id": "0fa172af-af3a-4944-bd66-aac6899072f3",
   "metadata": {},
   "outputs": [],
   "source": [
    "cat_cols = data.select_dtypes(include=['object']).columns\n",
    "num_cols = data.select_dtypes(exclude=['object']).columns"
   ]
  },
  {
   "cell_type": "code",
   "execution_count": 84,
   "id": "88d1318d-3540-4d16-aa96-c680a8129fac",
   "metadata": {
    "tags": []
   },
   "outputs": [
    {
     "data": {
      "text/plain": [
       "0          1_Ofracculy\n",
       "1              2_Vines\n",
       "2             3_Susent\n",
       "3             3_Susent\n",
       "4        4_Santantines\n",
       "             ...      \n",
       "8688    9276_Noxnuther\n",
       "8689    9278_Mondalley\n",
       "8690       9279_Connon\n",
       "8691    9280_Hontichre\n",
       "8692    9280_Hontichre\n",
       "Name: FamilyId, Length: 8693, dtype: object"
      ]
     },
     "execution_count": 84,
     "metadata": {},
     "output_type": "execute_result"
    }
   ],
   "source": [
    "data.FamilyId"
   ]
  },
  {
   "cell_type": "code",
   "execution_count": 37,
   "id": "37d1f019-0ac5-4dbe-aa03-7711a968dd9b",
   "metadata": {},
   "outputs": [
    {
     "data": {
      "text/plain": [
       "Index(['Age', 'GroupNb', 'FamilyNb', 'CabinNum', 'RoomService', 'FoodCourt',\n",
       "       'ShoppingMall', 'Spa', 'VRDeck', 'MoneySpent', 'FamilyRoomService',\n",
       "       'FamilyFoodCourt', 'FamilyShoppingMall', 'FamilySpa', 'FamilyVRDeck',\n",
       "       'FamilyMoneySpent', 'Transported'],\n",
       "      dtype='object')"
      ]
     },
     "execution_count": 37,
     "metadata": {},
     "output_type": "execute_result"
    }
   ],
   "source": [
    "num_cols"
   ]
  },
  {
   "cell_type": "code",
   "execution_count": 39,
   "id": "27343003-041b-460e-b354-838653e3a7ed",
   "metadata": {},
   "outputs": [
    {
     "data": {
      "text/plain": [
       "<seaborn.axisgrid.FacetGrid at 0x1b52bd82880>"
      ]
     },
     "execution_count": 39,
     "metadata": {},
     "output_type": "execute_result"
    },
    {
     "data": {
      "image/png": "[encoded data removed]",
      "text/plain": [
       "<Figure size 427.125x360 with 1 Axes>"
      ]
     },
     "metadata": {
      "needs_background": "light"
     },
     "output_type": "display_data"
    }
   ],
   "source": [
    "sns.catplot(data = data , x='CabinDeck', y='GroupNb',hue='Transported',kind='violin')"
   ]
  },
  {
   "cell_type": "code",
   "execution_count": null,
   "id": "e52d53b2-2212-4aa6-b59b-ebec96668941",
   "metadata": {},
   "outputs": [],
   "source": [
    "num_cols"
   ]
  },
  {
   "cell_type": "code",
   "execution_count": 40,
   "id": "488b0145-336c-4408-a62a-3ff701665f45",
   "metadata": {
    "tags": []
   },
   "outputs": [
    {
     "data": {
      "text/plain": [
       "<seaborn.axisgrid.FacetGrid at 0x1b52c031d60>"
      ]
     },
     "execution_count": 40,
     "metadata": {},
     "output_type": "execute_result"
    },
    {
     "data": {
      "image/png": "[encoded data removed]",
      "text/plain": [
       "<Figure size 430.875x360 with 1 Axes>"
      ]
     },
     "metadata": {
      "needs_background": "light"
     },
     "output_type": "display_data"
    }
   ],
   "source": [
    "sns.catplot(data = data , x='VIP', y='Age',hue='HomePlanet',kind='violin')"
   ]
  },
  {
   "cell_type": "code",
   "execution_count": 99,
   "id": "0c8b637b-8c18-4c91-a126-e8f7fccf58a9",
   "metadata": {},
   "outputs": [
    {
     "data": {
      "text/plain": [
       "<seaborn.axisgrid.FacetGrid at 0x1b52c4978e0>"
      ]
     },
     "execution_count": 99,
     "metadata": {},
     "output_type": "execute_result"
    },
    {
     "data": {
      "image/png": "[encoded data removed]",
      "text/plain": [
       "<Figure size 430.875x360 with 1 Axes>"
      ]
     },
     "metadata": {
      "needs_background": "light"
     },
     "output_type": "display_data"
    }
   ],
   "source": [
    "sns.catplot(data = data , x='CabinDeck',hue='HomePlanet',kind='count')"
   ]
  },
  {
   "cell_type": "code",
   "execution_count": 41,
   "id": "4347f925-b0a4-4cf4-86d5-ff7ad5fbca42",
   "metadata": {},
   "outputs": [
    {
     "data": {
      "text/plain": [
       "<seaborn.axisgrid.FacetGrid at 0x1b52c031460>"
      ]
     },
     "execution_count": 41,
     "metadata": {},
     "output_type": "execute_result"
    },
    {
     "data": {
      "image/png": "[encoded data removed]",
      "text/plain": [
       "<Figure size 430.875x360 with 1 Axes>"
      ]
     },
     "metadata": {
      "needs_background": "light"
     },
     "output_type": "display_data"
    }
   ],
   "source": [
    "sns.catplot(data = data , x='Transported', y='Age',hue='HomePlanet',kind='violin')"
   ]
  },
  {
   "cell_type": "code",
   "execution_count": 42,
   "id": "2f10a0eb-4766-40d0-9216-d7eab467f6e2",
   "metadata": {},
   "outputs": [
    {
     "data": {
      "text/plain": [
       "<seaborn.axisgrid.FacetGrid at 0x1b52dbcff70>"
      ]
     },
     "execution_count": 42,
     "metadata": {},
     "output_type": "execute_result"
    },
    {
     "data": {
      "image/png": "[encoded data removed]",
      "text/plain": [
       "<Figure size 421.25x360 with 1 Axes>"
      ]
     },
     "metadata": {
      "needs_background": "light"
     },
     "output_type": "display_data"
    }
   ],
   "source": [
    "sns.catplot(data = data , x='Transported', y='Age',hue='VIP',kind='violin')"
   ]
  },
  {
   "cell_type": "code",
   "execution_count": 43,
   "id": "2776ae57-8cb9-4129-840a-f0fd6d02cd0f",
   "metadata": {},
   "outputs": [
    {
     "data": {
      "text/plain": [
       "<seaborn.axisgrid.FacetGrid at 0x1b52c640700>"
      ]
     },
     "execution_count": 43,
     "metadata": {},
     "output_type": "execute_result"
    },
    {
     "data": {
      "image/png": "[encoded data removed]",
      "text/plain": [
       "<Figure size 781.25x360 with 2 Axes>"
      ]
     },
     "metadata": {
      "needs_background": "light"
     },
     "output_type": "display_data"
    }
   ],
   "source": [
    "sns.catplot(data = data , x='CryoSleep',hue='VIP',col='Transported',kind='count')"
   ]
  },
  {
   "cell_type": "code",
   "execution_count": 44,
   "id": "4144c9a8-7293-4fcc-a012-c904bbf66366",
   "metadata": {},
   "outputs": [
    {
     "data": {
      "text/html": [
       "<div>\n",
       "<style scoped>\n",
       "    .dataframe tbody tr th:only-of-type {\n",
       "        vertical-align: middle;\n",
       "    }\n",
       "\n",
       "    .dataframe tbody tr th {\n",
       "        vertical-align: top;\n",
       "    }\n",
       "\n",
       "    .dataframe thead th {\n",
       "        text-align: right;\n",
       "    }\n",
       "</style>\n",
       "<table border=\"1\" class=\"dataframe\">\n",
       "  <thead>\n",
       "    <tr style=\"text-align: right;\">\n",
       "      <th></th>\n",
       "      <th>PassengerId</th>\n",
       "      <th>GroupId</th>\n",
       "      <th>GroupSubId</th>\n",
       "      <th>Name</th>\n",
       "      <th>FirstName</th>\n",
       "      <th>FamilyName</th>\n",
       "      <th>FamilyId</th>\n",
       "      <th>Age</th>\n",
       "      <th>GroupNb</th>\n",
       "      <th>FamilyNb</th>\n",
       "      <th>...</th>\n",
       "      <th>ShoppingMall</th>\n",
       "      <th>Spa</th>\n",
       "      <th>VRDeck</th>\n",
       "      <th>MoneySpent</th>\n",
       "      <th>FamilyRoomService</th>\n",
       "      <th>FamilyFoodCourt</th>\n",
       "      <th>FamilyShoppingMall</th>\n",
       "      <th>FamilySpa</th>\n",
       "      <th>FamilyVRDeck</th>\n",
       "      <th>FamilyMoneySpent</th>\n",
       "    </tr>\n",
       "    <tr>\n",
       "      <th>Transported</th>\n",
       "      <th></th>\n",
       "      <th></th>\n",
       "      <th></th>\n",
       "      <th></th>\n",
       "      <th></th>\n",
       "      <th></th>\n",
       "      <th></th>\n",
       "      <th></th>\n",
       "      <th></th>\n",
       "      <th></th>\n",
       "      <th></th>\n",
       "      <th></th>\n",
       "      <th></th>\n",
       "      <th></th>\n",
       "      <th></th>\n",
       "      <th></th>\n",
       "      <th></th>\n",
       "      <th></th>\n",
       "      <th></th>\n",
       "      <th></th>\n",
       "      <th></th>\n",
       "    </tr>\n",
       "  </thead>\n",
       "  <tbody>\n",
       "    <tr>\n",
       "      <th>False</th>\n",
       "      <td>4315</td>\n",
       "      <td>4315</td>\n",
       "      <td>4315</td>\n",
       "      <td>4216</td>\n",
       "      <td>4216</td>\n",
       "      <td>4216</td>\n",
       "      <td>4315</td>\n",
       "      <td>4226</td>\n",
       "      <td>4315</td>\n",
       "      <td>4315</td>\n",
       "      <td>...</td>\n",
       "      <td>4221</td>\n",
       "      <td>4223</td>\n",
       "      <td>4225</td>\n",
       "      <td>4315</td>\n",
       "      <td>4315</td>\n",
       "      <td>4315</td>\n",
       "      <td>4315</td>\n",
       "      <td>4315</td>\n",
       "      <td>4315</td>\n",
       "      <td>4315</td>\n",
       "    </tr>\n",
       "    <tr>\n",
       "      <th>True</th>\n",
       "      <td>4378</td>\n",
       "      <td>4378</td>\n",
       "      <td>4378</td>\n",
       "      <td>4277</td>\n",
       "      <td>4277</td>\n",
       "      <td>4277</td>\n",
       "      <td>4378</td>\n",
       "      <td>4288</td>\n",
       "      <td>4378</td>\n",
       "      <td>4378</td>\n",
       "      <td>...</td>\n",
       "      <td>4264</td>\n",
       "      <td>4287</td>\n",
       "      <td>4280</td>\n",
       "      <td>4378</td>\n",
       "      <td>4378</td>\n",
       "      <td>4378</td>\n",
       "      <td>4378</td>\n",
       "      <td>4378</td>\n",
       "      <td>4378</td>\n",
       "      <td>4378</td>\n",
       "    </tr>\n",
       "  </tbody>\n",
       "</table>\n",
       "<p>2 rows × 31 columns</p>\n",
       "</div>"
      ],
      "text/plain": [
       "             PassengerId  GroupId  GroupSubId  Name  FirstName  FamilyName  \\\n",
       "Transported                                                                  \n",
       "False               4315     4315        4315  4216       4216        4216   \n",
       "True                4378     4378        4378  4277       4277        4277   \n",
       "\n",
       "             FamilyId   Age  GroupNb  FamilyNb  ...  ShoppingMall   Spa  \\\n",
       "Transported                                     ...                       \n",
       "False            4315  4226     4315      4315  ...          4221  4223   \n",
       "True             4378  4288     4378      4378  ...          4264  4287   \n",
       "\n",
       "             VRDeck  MoneySpent  FamilyRoomService  FamilyFoodCourt  \\\n",
       "Transported                                                           \n",
       "False          4225        4315               4315             4315   \n",
       "True           4280        4378               4378             4378   \n",
       "\n",
       "             FamilyShoppingMall  FamilySpa  FamilyVRDeck  FamilyMoneySpent  \n",
       "Transported                                                                 \n",
       "False                      4315       4315          4315              4315  \n",
       "True                       4378       4378          4378              4378  \n",
       "\n",
       "[2 rows x 31 columns]"
      ]
     },
     "execution_count": 44,
     "metadata": {},
     "output_type": "execute_result"
    }
   ],
   "source": [
    "data.groupby(['Transported']).count()#['CryoSleep'].count()"
   ]
  },
  {
   "cell_type": "code",
   "execution_count": 45,
   "id": "1415020f-4f96-47dd-b277-90b9fd6b9e92",
   "metadata": {},
   "outputs": [
    {
     "data": {
      "text/html": [
       "<div>\n",
       "<style scoped>\n",
       "    .dataframe tbody tr th:only-of-type {\n",
       "        vertical-align: middle;\n",
       "    }\n",
       "\n",
       "    .dataframe tbody tr th {\n",
       "        vertical-align: top;\n",
       "    }\n",
       "\n",
       "    .dataframe thead th {\n",
       "        text-align: right;\n",
       "    }\n",
       "</style>\n",
       "<table border=\"1\" class=\"dataframe\">\n",
       "  <thead>\n",
       "    <tr style=\"text-align: right;\">\n",
       "      <th></th>\n",
       "      <th></th>\n",
       "      <th>PassengerId</th>\n",
       "    </tr>\n",
       "    <tr>\n",
       "      <th>Transported</th>\n",
       "      <th>HomePlanet</th>\n",
       "      <th></th>\n",
       "    </tr>\n",
       "  </thead>\n",
       "  <tbody>\n",
       "    <tr>\n",
       "      <th rowspan=\"3\" valign=\"top\">False</th>\n",
       "      <th>Earth</th>\n",
       "      <td>2651</td>\n",
       "    </tr>\n",
       "    <tr>\n",
       "      <th>Europa</th>\n",
       "      <td>727</td>\n",
       "    </tr>\n",
       "    <tr>\n",
       "      <th>Mars</th>\n",
       "      <td>839</td>\n",
       "    </tr>\n",
       "    <tr>\n",
       "      <th rowspan=\"3\" valign=\"top\">True</th>\n",
       "      <th>Earth</th>\n",
       "      <td>1951</td>\n",
       "    </tr>\n",
       "    <tr>\n",
       "      <th>Europa</th>\n",
       "      <td>1404</td>\n",
       "    </tr>\n",
       "    <tr>\n",
       "      <th>Mars</th>\n",
       "      <td>920</td>\n",
       "    </tr>\n",
       "  </tbody>\n",
       "</table>\n",
       "</div>"
      ],
      "text/plain": [
       "                        PassengerId\n",
       "Transported HomePlanet             \n",
       "False       Earth              2651\n",
       "            Europa              727\n",
       "            Mars                839\n",
       "True        Earth              1951\n",
       "            Europa             1404\n",
       "            Mars                920"
      ]
     },
     "execution_count": 45,
     "metadata": {},
     "output_type": "execute_result"
    }
   ],
   "source": [
    "pd.DataFrame(data.groupby(['Transported','HomePlanet'])['PassengerId'].count())"
   ]
  },
  {
   "cell_type": "code",
   "execution_count": null,
   "id": "9e1e6b72-92fc-469b-8696-11bcdf2268e4",
   "metadata": {},
   "outputs": [],
   "source": []
  }
 ],
 "metadata": {
  "kernelspec": {
   "display_name": "Python 3 (ipykernel)",
   "language": "python",
   "name": "python3"
  },
  "language_info": {
   "codemirror_mode": {
    "name": "ipython",
    "version": 3
   },
   "file_extension": ".py",
   "mimetype": "text/x-python",
   "name": "python",
   "nbconvert_exporter": "python",
   "pygments_lexer": "ipython3",
   "version": "3.9.12"
  }
 },
 "nbformat": 4,
 "nbformat_minor": 5
}
