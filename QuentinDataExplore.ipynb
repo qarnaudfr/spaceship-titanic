{
 "cells": [
  {
   "cell_type": "code",
   "execution_count": 1,
   "id": "9fd5ab97-b100-4c11-bdd8-57b95ee390c1",
   "metadata": {},
   "outputs": [
    {
     "name": "stdout",
     "output_type": "stream",
     "text": [
      "sklearn version : 1.0.2\n",
      "C:\\Users\\qarna\\Desktop\\kaggle\\kaggle\\input\\spaceship-titanic\\train.csv \n",
      " C:\\Users\\qarna\\Desktop\\kaggle\\kaggle\\input\\spaceship-titanic\\test.csv\n"
     ]
    }
   ],
   "source": [
    "import os\n",
    "import seaborn as sns\n",
    "import matplotlib.pyplot as plt\n",
    "import numpy as np # linear algebra\n",
    "import pandas as pd # data processing, CSV file I/O (e.g. pd.read_csv)\n",
    "import sklearn\n",
    "print(f\"sklearn version : {sklearn.__version__}\")\n",
    "\n",
    "# just adding a comment\n",
    "Project = 'spaceship-titanic'\n",
    "\n",
    "#/kaggle/working\n",
    "initial_directory = os.getcwd()\n",
    "online = True if initial_directory=='/kaggle/working' else False\n",
    "#/kaggle\n",
    "parrent_directory = os.path.split(initial_directory)[0]\n",
    "#whether we are working online or locally,os.path.join allows us to deal easily with \n",
    "\n",
    "train_file = os.path.join(parrent_directory,'kaggle','input',Project,\"train.csv\")\n",
    "test_file = os.path.join(parrent_directory,'kaggle','input',Project,\"test.csv\")\n",
    "print(train_file,\"\\n\",test_file)"
   ]
  },
  {
   "cell_type": "code",
   "execution_count": null,
   "id": "31da0f0b-9095-4283-baeb-39650405b7f8",
   "metadata": {},
   "outputs": [],
   "source": []
  }
 ],
 "metadata": {
  "kernelspec": {
   "display_name": "Python 3 (ipykernel)",
   "language": "python",
   "name": "python3"
  },
  "language_info": {
   "codemirror_mode": {
    "name": "ipython",
    "version": 3
   },
   "file_extension": ".py",
   "mimetype": "text/x-python",
   "name": "python",
   "nbconvert_exporter": "python",
   "pygments_lexer": "ipython3",
   "version": "3.9.12"
  }
 },
 "nbformat": 4,
 "nbformat_minor": 5
}
